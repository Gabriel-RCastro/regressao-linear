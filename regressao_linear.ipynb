{
  "nbformat": 4,
  "nbformat_minor": 0,
  "metadata": {
    "colab": {
      "name": "Regressão Linear ",
      "provenance": [],
      "collapsed_sections": [],
      "authorship_tag": "ABX9TyN6diW5rtO0M8hHeQ1aP5a8",
      "include_colab_link": true
    },
    "kernelspec": {
      "name": "python3",
      "display_name": "Python 3"
    },
    "language_info": {
      "name": "python"
    }
  },
  "cells": [
    {
      "cell_type": "markdown",
      "metadata": {
        "id": "view-in-github",
        "colab_type": "text"
      },
      "source": [
        "<a href=\"https://colab.research.google.com/github/Gabriel-RCastro/regressao-linear/blob/main/regressao_linear.ipynb\" target=\"_parent\"><img src=\"https://colab.research.google.com/assets/colab-badge.svg\" alt=\"Open In Colab\"/></a>"
      ]
    },
    {
      "cell_type": "markdown",
      "metadata": {
        "id": "b8XtNr4F3uPp"
      },
      "source": [
        "# Regressão Linear\n",
        "\n",
        "**Pergunta escolhida:**\n",
        "> Condições climáticas na Segunda Guerra Mundial: existe uma relação entre a temperatura mínima e máxima diária? Você pode prever a temperatura máxima dada a temperatura mínima?\n",
        "\n",
        "Link do conjunto de dados: https://www.kaggle.com/smid80/weatherww2/data"
      ]
    },
    {
      "cell_type": "markdown",
      "metadata": {
        "id": "Gdc99zzPwuzb"
      },
      "source": [
        "---\n",
        "> Baixando o conjunto de dados e o extraindo."
      ]
    },
    {
      "cell_type": "code",
      "metadata": {
        "colab": {
          "base_uri": "https://localhost:8080/"
        },
        "id": "05R6Nbaa8iz8",
        "outputId": "3ae79c4a-e7ec-4ea0-e3ca-d600428fbd0d"
      },
      "source": [
        "!wget 'https://raw.githubusercontent.com/Gabriel-RCastro/regressao-linear/main/Summary%20of%20Weather.csv'\n",
        "!unzip Summary\\ of\\ Weather.zip"
      ],
      "execution_count": 1,
      "outputs": [
        {
          "output_type": "stream",
          "name": "stdout",
          "text": [
            "--2021-11-20 01:31:31--  https://raw.githubusercontent.com/Gabriel-RCastro/regressao-linear/main/Summary%20of%20Weather.csv\n",
            "Resolving raw.githubusercontent.com (raw.githubusercontent.com)... 185.199.108.133, 185.199.109.133, 185.199.110.133, ...\n",
            "Connecting to raw.githubusercontent.com (raw.githubusercontent.com)|185.199.108.133|:443... connected.\n",
            "HTTP request sent, awaiting response... 200 OK\n",
            "Length: 11237604 (11M) [text/plain]\n",
            "Saving to: ‘Summary of Weather.csv’\n",
            "\n",
            "\rSummary of Weather.   0%[                    ]       0  --.-KB/s               \rSummary of Weather. 100%[===================>]  10.72M  63.0MB/s    in 0.2s    \n",
            "\n",
            "2021-11-20 01:31:32 (63.0 MB/s) - ‘Summary of Weather.csv’ saved [11237604/11237604]\n",
            "\n",
            "unzip:  cannot find or open Summary of Weather.zip, Summary of Weather.zip.zip or Summary of Weather.zip.ZIP.\n"
          ]
        }
      ]
    },
    {
      "cell_type": "markdown",
      "metadata": {
        "id": "h0j-THucx26c"
      },
      "source": [
        "---\n",
        "> Importando as bibliotecas necessárias para a execução do algoritmo."
      ]
    },
    {
      "cell_type": "code",
      "metadata": {
        "id": "LbbkuVfZmKRH"
      },
      "source": [
        "import pandas as pd\n",
        "import matplotlib.pyplot as plt\n",
        "import numpy as np\n",
        "from sklearn.model_selection import train_test_split\n",
        "from sklearn.linear_model import LinearRegression\n",
        "from sklearn import metrics"
      ],
      "execution_count": 2,
      "outputs": []
    },
    {
      "cell_type": "markdown",
      "metadata": {
        "id": "nAfRWtC6yLjj"
      },
      "source": [
        "---\n",
        "> Lendo o conjunto de dados em formato .CSV, criando um DataFrame com ele e exibindo os cinco primeiros registros."
      ]
    },
    {
      "cell_type": "code",
      "metadata": {
        "id": "PZ-Cg2rQu1Dn",
        "colab": {
          "base_uri": "https://localhost:8080/",
          "height": 309
        },
        "outputId": "729e0442-9f81-4585-f61c-b3ccf2795cca"
      },
      "source": [
        "df = pd.read_csv('Summary of Weather.csv', low_memory=False)\n",
        "df.head()"
      ],
      "execution_count": 3,
      "outputs": [
        {
          "output_type": "execute_result",
          "data": {
            "text/html": [
              "<div>\n",
              "<style scoped>\n",
              "    .dataframe tbody tr th:only-of-type {\n",
              "        vertical-align: middle;\n",
              "    }\n",
              "\n",
              "    .dataframe tbody tr th {\n",
              "        vertical-align: top;\n",
              "    }\n",
              "\n",
              "    .dataframe thead th {\n",
              "        text-align: right;\n",
              "    }\n",
              "</style>\n",
              "<table border=\"1\" class=\"dataframe\">\n",
              "  <thead>\n",
              "    <tr style=\"text-align: right;\">\n",
              "      <th></th>\n",
              "      <th>STA</th>\n",
              "      <th>Date</th>\n",
              "      <th>Precip</th>\n",
              "      <th>WindGustSpd</th>\n",
              "      <th>MaxTemp</th>\n",
              "      <th>MinTemp</th>\n",
              "      <th>MeanTemp</th>\n",
              "      <th>Snowfall</th>\n",
              "      <th>PoorWeather</th>\n",
              "      <th>YR</th>\n",
              "      <th>MO</th>\n",
              "      <th>DA</th>\n",
              "      <th>PRCP</th>\n",
              "      <th>DR</th>\n",
              "      <th>SPD</th>\n",
              "      <th>MAX</th>\n",
              "      <th>MIN</th>\n",
              "      <th>MEA</th>\n",
              "      <th>SNF</th>\n",
              "      <th>SND</th>\n",
              "      <th>FT</th>\n",
              "      <th>FB</th>\n",
              "      <th>FTI</th>\n",
              "      <th>ITH</th>\n",
              "      <th>PGT</th>\n",
              "      <th>TSHDSBRSGF</th>\n",
              "      <th>SD3</th>\n",
              "      <th>RHX</th>\n",
              "      <th>RHN</th>\n",
              "      <th>RVG</th>\n",
              "      <th>WTE</th>\n",
              "    </tr>\n",
              "  </thead>\n",
              "  <tbody>\n",
              "    <tr>\n",
              "      <th>0</th>\n",
              "      <td>10001</td>\n",
              "      <td>1942-7-1</td>\n",
              "      <td>1.016</td>\n",
              "      <td>NaN</td>\n",
              "      <td>25.555556</td>\n",
              "      <td>22.222222</td>\n",
              "      <td>23.888889</td>\n",
              "      <td>0</td>\n",
              "      <td>NaN</td>\n",
              "      <td>42</td>\n",
              "      <td>7</td>\n",
              "      <td>1</td>\n",
              "      <td>0.04</td>\n",
              "      <td>NaN</td>\n",
              "      <td>NaN</td>\n",
              "      <td>78.0</td>\n",
              "      <td>72.0</td>\n",
              "      <td>75.0</td>\n",
              "      <td>0</td>\n",
              "      <td>NaN</td>\n",
              "      <td>NaN</td>\n",
              "      <td>NaN</td>\n",
              "      <td>NaN</td>\n",
              "      <td>NaN</td>\n",
              "      <td>NaN</td>\n",
              "      <td>NaN</td>\n",
              "      <td>NaN</td>\n",
              "      <td>NaN</td>\n",
              "      <td>NaN</td>\n",
              "      <td>NaN</td>\n",
              "      <td>NaN</td>\n",
              "    </tr>\n",
              "    <tr>\n",
              "      <th>1</th>\n",
              "      <td>10001</td>\n",
              "      <td>1942-7-2</td>\n",
              "      <td>0</td>\n",
              "      <td>NaN</td>\n",
              "      <td>28.888889</td>\n",
              "      <td>21.666667</td>\n",
              "      <td>25.555556</td>\n",
              "      <td>0</td>\n",
              "      <td>NaN</td>\n",
              "      <td>42</td>\n",
              "      <td>7</td>\n",
              "      <td>2</td>\n",
              "      <td>0</td>\n",
              "      <td>NaN</td>\n",
              "      <td>NaN</td>\n",
              "      <td>84.0</td>\n",
              "      <td>71.0</td>\n",
              "      <td>78.0</td>\n",
              "      <td>0</td>\n",
              "      <td>NaN</td>\n",
              "      <td>NaN</td>\n",
              "      <td>NaN</td>\n",
              "      <td>NaN</td>\n",
              "      <td>NaN</td>\n",
              "      <td>NaN</td>\n",
              "      <td>NaN</td>\n",
              "      <td>NaN</td>\n",
              "      <td>NaN</td>\n",
              "      <td>NaN</td>\n",
              "      <td>NaN</td>\n",
              "      <td>NaN</td>\n",
              "    </tr>\n",
              "    <tr>\n",
              "      <th>2</th>\n",
              "      <td>10001</td>\n",
              "      <td>1942-7-3</td>\n",
              "      <td>2.54</td>\n",
              "      <td>NaN</td>\n",
              "      <td>26.111111</td>\n",
              "      <td>22.222222</td>\n",
              "      <td>24.444444</td>\n",
              "      <td>0</td>\n",
              "      <td>NaN</td>\n",
              "      <td>42</td>\n",
              "      <td>7</td>\n",
              "      <td>3</td>\n",
              "      <td>0.1</td>\n",
              "      <td>NaN</td>\n",
              "      <td>NaN</td>\n",
              "      <td>79.0</td>\n",
              "      <td>72.0</td>\n",
              "      <td>76.0</td>\n",
              "      <td>0</td>\n",
              "      <td>NaN</td>\n",
              "      <td>NaN</td>\n",
              "      <td>NaN</td>\n",
              "      <td>NaN</td>\n",
              "      <td>NaN</td>\n",
              "      <td>NaN</td>\n",
              "      <td>NaN</td>\n",
              "      <td>NaN</td>\n",
              "      <td>NaN</td>\n",
              "      <td>NaN</td>\n",
              "      <td>NaN</td>\n",
              "      <td>NaN</td>\n",
              "    </tr>\n",
              "    <tr>\n",
              "      <th>3</th>\n",
              "      <td>10001</td>\n",
              "      <td>1942-7-4</td>\n",
              "      <td>2.54</td>\n",
              "      <td>NaN</td>\n",
              "      <td>26.666667</td>\n",
              "      <td>22.222222</td>\n",
              "      <td>24.444444</td>\n",
              "      <td>0</td>\n",
              "      <td>NaN</td>\n",
              "      <td>42</td>\n",
              "      <td>7</td>\n",
              "      <td>4</td>\n",
              "      <td>0.1</td>\n",
              "      <td>NaN</td>\n",
              "      <td>NaN</td>\n",
              "      <td>80.0</td>\n",
              "      <td>72.0</td>\n",
              "      <td>76.0</td>\n",
              "      <td>0</td>\n",
              "      <td>NaN</td>\n",
              "      <td>NaN</td>\n",
              "      <td>NaN</td>\n",
              "      <td>NaN</td>\n",
              "      <td>NaN</td>\n",
              "      <td>NaN</td>\n",
              "      <td>NaN</td>\n",
              "      <td>NaN</td>\n",
              "      <td>NaN</td>\n",
              "      <td>NaN</td>\n",
              "      <td>NaN</td>\n",
              "      <td>NaN</td>\n",
              "    </tr>\n",
              "    <tr>\n",
              "      <th>4</th>\n",
              "      <td>10001</td>\n",
              "      <td>1942-7-5</td>\n",
              "      <td>0</td>\n",
              "      <td>NaN</td>\n",
              "      <td>26.666667</td>\n",
              "      <td>21.666667</td>\n",
              "      <td>24.444444</td>\n",
              "      <td>0</td>\n",
              "      <td>NaN</td>\n",
              "      <td>42</td>\n",
              "      <td>7</td>\n",
              "      <td>5</td>\n",
              "      <td>0</td>\n",
              "      <td>NaN</td>\n",
              "      <td>NaN</td>\n",
              "      <td>80.0</td>\n",
              "      <td>71.0</td>\n",
              "      <td>76.0</td>\n",
              "      <td>0</td>\n",
              "      <td>NaN</td>\n",
              "      <td>NaN</td>\n",
              "      <td>NaN</td>\n",
              "      <td>NaN</td>\n",
              "      <td>NaN</td>\n",
              "      <td>NaN</td>\n",
              "      <td>NaN</td>\n",
              "      <td>NaN</td>\n",
              "      <td>NaN</td>\n",
              "      <td>NaN</td>\n",
              "      <td>NaN</td>\n",
              "      <td>NaN</td>\n",
              "    </tr>\n",
              "  </tbody>\n",
              "</table>\n",
              "</div>"
            ],
            "text/plain": [
              "     STA      Date Precip  WindGustSpd    MaxTemp  ...  SD3  RHX RHN RVG  WTE\n",
              "0  10001  1942-7-1  1.016          NaN  25.555556  ...  NaN  NaN NaN NaN  NaN\n",
              "1  10001  1942-7-2      0          NaN  28.888889  ...  NaN  NaN NaN NaN  NaN\n",
              "2  10001  1942-7-3   2.54          NaN  26.111111  ...  NaN  NaN NaN NaN  NaN\n",
              "3  10001  1942-7-4   2.54          NaN  26.666667  ...  NaN  NaN NaN NaN  NaN\n",
              "4  10001  1942-7-5      0          NaN  26.666667  ...  NaN  NaN NaN NaN  NaN\n",
              "\n",
              "[5 rows x 31 columns]"
            ]
          },
          "metadata": {},
          "execution_count": 3
        }
      ]
    },
    {
      "cell_type": "markdown",
      "metadata": {
        "id": "uSVJE3bxzIgj"
      },
      "source": [
        "---\n",
        "> Imprimindo e analisando as informações sobre o DataFrame criado."
      ]
    },
    {
      "cell_type": "code",
      "metadata": {
        "id": "MJ8_2kWc5V7A",
        "colab": {
          "base_uri": "https://localhost:8080/"
        },
        "outputId": "c92881c2-a8da-4111-c20a-3642beb58bf3"
      },
      "source": [
        "df.info"
      ],
      "execution_count": 4,
      "outputs": [
        {
          "output_type": "execute_result",
          "data": {
            "text/plain": [
              "<bound method DataFrame.info of           STA        Date Precip  WindGustSpd  ...  RHX  RHN  RVG WTE\n",
              "0       10001    1942-7-1  1.016          NaN  ...  NaN  NaN  NaN NaN\n",
              "1       10001    1942-7-2      0          NaN  ...  NaN  NaN  NaN NaN\n",
              "2       10001    1942-7-3   2.54          NaN  ...  NaN  NaN  NaN NaN\n",
              "3       10001    1942-7-4   2.54          NaN  ...  NaN  NaN  NaN NaN\n",
              "4       10001    1942-7-5      0          NaN  ...  NaN  NaN  NaN NaN\n",
              "...       ...         ...    ...          ...  ...  ...  ...  ...  ..\n",
              "119035  82506  1945-12-27      0          NaN  ...  NaN  NaN  NaN NaN\n",
              "119036  82506  1945-12-28  9.906          NaN  ...  NaN  NaN  NaN NaN\n",
              "119037  82506  1945-12-29      0          NaN  ...  NaN  NaN  NaN NaN\n",
              "119038  82506  1945-12-30      0          NaN  ...  NaN  NaN  NaN NaN\n",
              "119039  82506  1945-12-31      0          NaN  ...  NaN  NaN  NaN NaN\n",
              "\n",
              "[119040 rows x 31 columns]>"
            ]
          },
          "metadata": {},
          "execution_count": 4
        }
      ]
    },
    {
      "cell_type": "markdown",
      "metadata": {
        "id": "T1Rlfi8MzcCU"
      },
      "source": [
        "---\n",
        "> Detectando a quantidade de valores ausentes em cada coluna do DataFrame."
      ]
    },
    {
      "cell_type": "code",
      "metadata": {
        "id": "slI5qMhl25z3",
        "colab": {
          "base_uri": "https://localhost:8080/"
        },
        "outputId": "da1e063f-1d3e-4179-d6fb-6c2557abe51d"
      },
      "source": [
        "df.isnull().sum()"
      ],
      "execution_count": 5,
      "outputs": [
        {
          "output_type": "execute_result",
          "data": {
            "text/plain": [
              "STA                 0\n",
              "Date                0\n",
              "Precip              0\n",
              "WindGustSpd    118508\n",
              "MaxTemp             0\n",
              "MinTemp             0\n",
              "MeanTemp            0\n",
              "Snowfall         1163\n",
              "PoorWeather     84803\n",
              "YR                  0\n",
              "MO                  0\n",
              "DA                  0\n",
              "PRCP             1932\n",
              "DR             118507\n",
              "SPD            118508\n",
              "MAX               474\n",
              "MIN               468\n",
              "MEA               498\n",
              "SNF              1163\n",
              "SND            113477\n",
              "FT             119040\n",
              "FB             119040\n",
              "FTI            119040\n",
              "ITH            119040\n",
              "PGT            118515\n",
              "TSHDSBRSGF      84803\n",
              "SD3            119040\n",
              "RHX            119040\n",
              "RHN            119040\n",
              "RVG            119040\n",
              "WTE            119040\n",
              "dtype: int64"
            ]
          },
          "metadata": {},
          "execution_count": 5
        }
      ]
    },
    {
      "cell_type": "markdown",
      "metadata": {
        "id": "aOMCjnqWzwYT"
      },
      "source": [
        "---\n",
        "> Excluindo as colunas que não são necessárias para a solução a ser construída e exibindo os cinco primeiros registros após a exclusão ter sido realizada."
      ]
    },
    {
      "cell_type": "code",
      "metadata": {
        "id": "SUPa7qVa3TFb",
        "colab": {
          "base_uri": "https://localhost:8080/",
          "height": 204
        },
        "outputId": "22811395-1a1d-4eed-dcc4-238072d8f4d6"
      },
      "source": [
        "to_drop = ['STA', 'Date', 'Precip', 'WindGustSpd', 'Snowfall', 'PoorWeather', 'YR', 'MO', 'DA', 'DR', 'PRCP', 'SPD', \n",
        "           'MAX', 'MIN', 'MEA', 'SNF', 'SND', 'FT', 'FB', 'FTI', 'ITH', 'PGT', 'TSHDSBRSGF', 'SD3', 'RHX', 'RHN', 'RVG', 'WTE']\n",
        "\n",
        "df.drop(to_drop, inplace=True, axis=1)\n",
        "df.head()"
      ],
      "execution_count": 6,
      "outputs": [
        {
          "output_type": "execute_result",
          "data": {
            "text/html": [
              "<div>\n",
              "<style scoped>\n",
              "    .dataframe tbody tr th:only-of-type {\n",
              "        vertical-align: middle;\n",
              "    }\n",
              "\n",
              "    .dataframe tbody tr th {\n",
              "        vertical-align: top;\n",
              "    }\n",
              "\n",
              "    .dataframe thead th {\n",
              "        text-align: right;\n",
              "    }\n",
              "</style>\n",
              "<table border=\"1\" class=\"dataframe\">\n",
              "  <thead>\n",
              "    <tr style=\"text-align: right;\">\n",
              "      <th></th>\n",
              "      <th>MaxTemp</th>\n",
              "      <th>MinTemp</th>\n",
              "      <th>MeanTemp</th>\n",
              "    </tr>\n",
              "  </thead>\n",
              "  <tbody>\n",
              "    <tr>\n",
              "      <th>0</th>\n",
              "      <td>25.555556</td>\n",
              "      <td>22.222222</td>\n",
              "      <td>23.888889</td>\n",
              "    </tr>\n",
              "    <tr>\n",
              "      <th>1</th>\n",
              "      <td>28.888889</td>\n",
              "      <td>21.666667</td>\n",
              "      <td>25.555556</td>\n",
              "    </tr>\n",
              "    <tr>\n",
              "      <th>2</th>\n",
              "      <td>26.111111</td>\n",
              "      <td>22.222222</td>\n",
              "      <td>24.444444</td>\n",
              "    </tr>\n",
              "    <tr>\n",
              "      <th>3</th>\n",
              "      <td>26.666667</td>\n",
              "      <td>22.222222</td>\n",
              "      <td>24.444444</td>\n",
              "    </tr>\n",
              "    <tr>\n",
              "      <th>4</th>\n",
              "      <td>26.666667</td>\n",
              "      <td>21.666667</td>\n",
              "      <td>24.444444</td>\n",
              "    </tr>\n",
              "  </tbody>\n",
              "</table>\n",
              "</div>"
            ],
            "text/plain": [
              "     MaxTemp    MinTemp   MeanTemp\n",
              "0  25.555556  22.222222  23.888889\n",
              "1  28.888889  21.666667  25.555556\n",
              "2  26.111111  22.222222  24.444444\n",
              "3  26.666667  22.222222  24.444444\n",
              "4  26.666667  21.666667  24.444444"
            ]
          },
          "metadata": {},
          "execution_count": 6
        }
      ]
    },
    {
      "cell_type": "markdown",
      "metadata": {
        "id": "NP6ILtAu2RKU"
      },
      "source": [
        "---\n",
        "> Exibindo um gráfico de dispersão da temperatura miníma vs temperatura máxima, demonstrando que existe uma relação entre as mesmas."
      ]
    },
    {
      "cell_type": "code",
      "metadata": {
        "id": "7SC1sW09QhdO",
        "colab": {
          "base_uri": "https://localhost:8080/",
          "height": 459
        },
        "outputId": "21827ecd-489e-486b-bf05-455e251d59ba"
      },
      "source": [
        "df.plot(x = 'MinTemp', y = 'MaxTemp', xlabel = 'Temperatura miníma', ylabel = 'Temperatura máxima', legend = False,\n",
        "        style = 'o', title = 'Gráfico de dispersão de temperatura miníma vs temperatura máxima', figsize = (10, 7))\n",
        "plt.show()"
      ],
      "execution_count": 7,
      "outputs": [
        {
          "output_type": "display_data",
          "data": {
            "image/png": "[encoded data removed]",
            "text/plain": [
              "<Figure size 720x504 with 1 Axes>"
            ]
          },
          "metadata": {
            "needs_background": "light"
          }
        }
      ]
    },
    {
      "cell_type": "markdown",
      "metadata": {
        "id": "FpIu0lfpCFyW"
      },
      "source": [
        "---\n",
        "> Dividindo o conjunto de dados em 70% para aprendizado e 30% para testes."
      ]
    },
    {
      "cell_type": "code",
      "metadata": {
        "id": "jFLiqtxg6Sfx"
      },
      "source": [
        "X = df['MinTemp'].values.reshape(-1, 1)\n",
        "y = df['MaxTemp'].values.reshape(-1, 1)\n",
        "\n",
        "X_train, X_test, y_train, y_test = train_test_split(X, y, test_size = 0.3, random_state = 0)"
      ],
      "execution_count": 8,
      "outputs": []
    },
    {
      "cell_type": "markdown",
      "metadata": {
        "id": "afT3K_iWEPwO"
      },
      "source": [
        "---\n",
        "> Realizando o treinamento e a predição dos dados através da biblioteca de regressão linear do sci-kit learning."
      ]
    },
    {
      "cell_type": "code",
      "metadata": {
        "id": "kyVOriEr7meB"
      },
      "source": [
        "lr = LinearRegression()\n",
        "lr.fit(X_train, y_train)\n",
        "y_pred = lr.predict(X_test)"
      ],
      "execution_count": 9,
      "outputs": []
    },
    {
      "cell_type": "markdown",
      "metadata": {
        "id": "62Px69AOFouP"
      },
      "source": [
        "---\n",
        "> Exibindo o modelo de regressão linear que demonstra a relação entre os valores previstos das temperaturas máximas dado ao valores preditores das temperaturas minímas."
      ]
    },
    {
      "cell_type": "code",
      "metadata": {
        "id": "p9c3cWxR95zR",
        "colab": {
          "base_uri": "https://localhost:8080/",
          "height": 459
        },
        "outputId": "dc033721-460f-4fbe-8b59-4d72be51d4a7"
      },
      "source": [
        "plt.figure(figsize = (10, 7))\n",
        "plt.scatter(X_test, y_test, color = 'grey')\n",
        "plt.plot(X_test, y_pred, color = 'green', linewidth = 2)\n",
        "plt.title('Modelo de regressão linear')\n",
        "plt.xlabel('Temperatura miníma')\n",
        "plt.ylabel('Temperatura máxima')\n",
        "plt.show()"
      ],
      "execution_count": 10,
      "outputs": [
        {
          "output_type": "display_data",
          "data": {
            "image/png": "[encoded data removed]",
            "text/plain": [
              "<Figure size 720x504 with 1 Axes>"
            ]
          },
          "metadata": {
            "needs_background": "light"
          }
        }
      ]
    },
    {
      "cell_type": "markdown",
      "metadata": {
        "id": "C093e7hRuTyT"
      },
      "source": [
        "---\n",
        "> Exibindo o valor do coeficiente de determinação, também chamado de R², que é uma medida de ajuste da regressão linear aos valores observados de uma variável, expressando a pontuação alcançada através da aplicação dessa regressão."
      ]
    },
    {
      "cell_type": "code",
      "metadata": {
        "id": "67nRYdySfLKo",
        "colab": {
          "base_uri": "https://localhost:8080/"
        },
        "outputId": "93e540f6-33df-4fcd-f373-81e0a94280f7"
      },
      "source": [
        "print('R² (Coeficiente de determinação):', metrics.r2_score(y_test, y_pred))"
      ],
      "execution_count": 11,
      "outputs": [
        {
          "output_type": "stream",
          "name": "stdout",
          "text": [
            "R² (Coeficiente de determinação): 0.7701466087771792\n"
          ]
        }
      ]
    },
    {
      "cell_type": "markdown",
      "metadata": {
        "id": "vz__TYbge5ZA"
      },
      "source": [
        "---\n",
        "Existem três métricas primárias usadas para avaliar modelos lineares. São elas:\n",
        "\n",
        "1. Erro médio absoluto (MAE): representa o erro médio;\n",
        "\n",
        "2. Erro quadrático médio (MSE): semelhante ao MAE, mas o ruído é exagerado e erros maiores são “punidos”;\n",
        "\n",
        "3. Erro quadrático médio da raiz (RMSE): semelhante ao MSE, no entanto, o resultado tem raiz quadrada para torná-lo mais interpretável, pois está em unidades básicas.\n",
        "\n",
        "Com isso, são exibidos os valores dessas métricas em relação ao modelo de regressão linear que foi obtido."
      ]
    },
    {
      "cell_type": "code",
      "metadata": {
        "id": "SLYIDkMOUHZ_",
        "colab": {
          "base_uri": "https://localhost:8080/"
        },
        "outputId": "92633115-676d-4537-c473-a2aa6a01da46"
      },
      "source": [
        "print('Erro médio absoluto (MAE):', metrics.mean_absolute_error(y_test, y_pred))\n",
        "print('Erro quadrático médio (MSE):', metrics.mean_squared_error(y_test, y_pred))\n",
        "print('Erro quadrático médio da raiz (RMSE):', np.sqrt(metrics.mean_squared_error(y_test, y_pred)))"
      ],
      "execution_count": 12,
      "outputs": [
        {
          "output_type": "stream",
          "name": "stdout",
          "text": [
            "Erro médio absoluto (MAE): 3.1974386977579874\n",
            "Erro quadrático médio (MSE): 17.49813185868175\n",
            "Erro quadrático médio da raiz (RMSE): 4.183076841116088\n"
          ]
        }
      ]
    },
    {
      "cell_type": "markdown",
      "metadata": {
        "id": "puf74vwmuqNK"
      },
      "source": [
        "---\n",
        "> A matriz de confusão é usada para informar quantas previsões foram classificadas corretamente ou incorretamente, porém um modelo de regressão fornece uma saída contínua (não classificação).\n",
        "\n",
        "> Portanto, será proposto os valores 0 e 1 para os **yvalores**. Com isso, as previsões de regressão linear serão convertidas para qualquer uma dessas classes mencionadas.\n",
        "\n",
        "> Para essa aplicação, será considerado como 1 se `y_pred` for maior que o valor médio das temperatunas máximas (limite de corte) e como 0 se for menor. Por fim, a matriz confusão é exibida com base nessas definições."
      ]
    },
    {
      "cell_type": "code",
      "metadata": {
        "id": "vOvy-CW5WW-O",
        "colab": {
          "base_uri": "https://localhost:8080/"
        },
        "outputId": "e7abe2ea-84d2-4557-a15c-2384b4efadf4"
      },
      "source": [
        "max_temp_values = df['MaxTemp'].values\n",
        "cutoff = max_temp_values.sum() / len(max_temp_values)   # definindo o limite de corte                     \n",
        "y_pred_classes = np.zeros_like(y_pred)                  # inicializando uma matriz cheia de zeros\n",
        "y_pred_classes[y_pred >= cutoff] = 1                    # adicionando 1 se o corte for violado\n",
        "y_test_classes = np.zeros_like(y_test)\n",
        "y_test_classes[y_test >= cutoff] = 1\n",
        "print('Matriz confusão:', metrics.confusion_matrix(y_test_classes, y_pred_classes), sep='\\n') # [[tn, fp], [fn, tp]]"
      ],
      "execution_count": 13,
      "outputs": [
        {
          "output_type": "stream",
          "name": "stdout",
          "text": [
            "Matriz confusão:\n",
            "[[ 9230  1949]\n",
            " [ 3244 21289]]\n"
          ]
        }
      ]
    },
    {
      "cell_type": "markdown",
      "metadata": {
        "id": "d6r8O2Nr6Itz"
      },
      "source": [
        "---\n",
        "> Com base nas definições realizadas para a exibição da matriz confusão, também é possível apresentar outras métricas. Assim sendo, são exibidas as métricas acurácia, precisão, sensibilidade e escore F¹."
      ]
    },
    {
      "cell_type": "code",
      "metadata": {
        "id": "v9J2ZBMVryvq",
        "colab": {
          "base_uri": "https://localhost:8080/"
        },
        "outputId": "64dd12c8-1305-4f4a-ccdd-0363a0b911f0"
      },
      "source": [
        "print('Acurácia:', metrics.accuracy_score(y_test_classes, y_pred_classes))\n",
        "print('Precisão:', metrics.precision_score(y_test_classes, y_pred_classes))\n",
        "print('Sensibilidade:', metrics.recall_score(y_test_classes, y_pred_classes))\n",
        "print('F1 Score:', metrics.f1_score(y_test_classes, y_pred_classes))"
      ],
      "execution_count": 14,
      "outputs": [
        {
          "output_type": "stream",
          "name": "stdout",
          "text": [
            "Acurácia: 0.8545866935483871\n",
            "Precisão: 0.9161287546260436\n",
            "Sensibilidade: 0.8677699425263931\n",
            "F1 Score: 0.8912938812250111\n"
          ]
        }
      ]
    }
  ]
}